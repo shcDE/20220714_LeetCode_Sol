{
 "cells": [
  {
   "cell_type": "code",
   "execution_count": null,
   "metadata": {},
   "outputs": [],
   "source": [
    "# 85번 피보나치 수(리트코드 509번)\n",
    "\n",
    "class Solution:\n",
    "    # dp값 지정\n",
    "    dp = collections.defaultdict(int)\n",
    "    \n",
    "    # 피보나치 함수 지정\n",
    "    def fib(self, N: int) -> int:\n",
    "        self.dp[0] = 0\n",
    "        self.dp[1] = 1\n",
    "        \n",
    "        # 2부터 N까지 피보나치 식 반복\n",
    "        for i in range(2, N + 1):\n",
    "            self.dp[i] = self.dp[i - 1] + self.dp[i - 2]\n",
    "        # 함수 내 결과값 반환\n",
    "        return self.dp[N]"
   ]
  },
  {
   "cell_type": "code",
   "execution_count": null,
   "metadata": {},
   "outputs": [],
   "source": [
    "# 86번 최대 서브 배열(리트코드 53번)\n",
    "\n",
    "class Solution:\n",
    "    def maxSubArray(self, nums: List[int]) -> int:\n",
    "        \n",
    "        # 베스트썸 및 커렌트썸 값 지정\n",
    "        best_sum = -sys.maxsize\n",
    "        current_sum = 0\n",
    "        \n",
    "        # 베스트썸 및 커렌트썸 값 계산\n",
    "        for num in nums:\n",
    "            current_sum = max(num, current_sum + num)\n",
    "            best_sum = max(best_sum, current_sum)\n",
    "        \n",
    "        # 계산 완료되면 베스트썸 값 출력\n",
    "        return best_sum"
   ]
  },
  {
   "cell_type": "code",
   "execution_count": null,
   "metadata": {},
   "outputs": [],
   "source": [
    "# 87번 계단 오르기(리트코드 70번)\n",
    "\n",
    "class Solution:\n",
    "    # dp 값 지정\n",
    "    dp = collections.defaultdict(int)\n",
    "    \n",
    "    # climbStairs 함수 지정\n",
    "    def climbStairs(self, n: int) -> int:\n",
    "        if n <= 2:\n",
    "            return n\n",
    "        \n",
    "        # 메모이제이션 풀이 진행\n",
    "        if self.dp[n]:\n",
    "            return self.dp[n]\n",
    "        self.dp[n] = self.climbStairs(n - 1) + self.climbStairs(n - 2)\n",
    "        return self.dp[n]"
   ]
  },
  {
   "cell_type": "code",
   "execution_count": null,
   "metadata": {},
   "outputs": [],
   "source": [
    "# 88번 집 도둑(리트코드 198번)\n",
    "\n",
    "class Solution:\n",
    "    def rob(self, nums: List[int]) -> int:\n",
    "        \n",
    "        # 예외 처리\n",
    "        if not nums:\n",
    "            return 0\n",
    "        \n",
    "        # 2와 같거나 작을 경우 값 반환\n",
    "        if len(nums) <= 2:\n",
    "            return max(nums)\n",
    "        \n",
    "        # dp값 지정\n",
    "        dp = collections.OrderedDict()\n",
    "        # 타뷸레이션 진행\n",
    "        dp[0], dp[1] = nums[0], max(nums[0], nums[1])\n",
    "        for i in range(2, len(nums)):\n",
    "            dp[i] = max(dp[i - 1], dp[i - 2] + nums[i])\n",
    "        \n",
    "        # 가장 마지막 아이템 추출\n",
    "        return dp.popitem()[1]"
   ]
  }
 ],
 "metadata": {
  "kernelspec": {
   "display_name": "Python 3",
   "language": "python",
   "name": "python3"
  },
  "language_info": {
   "codemirror_mode": {
    "name": "ipython",
    "version": 3
   },
   "file_extension": ".py",
   "mimetype": "text/x-python",
   "name": "python",
   "nbconvert_exporter": "python",
   "pygments_lexer": "ipython3",
   "version": "3.8.5"
  }
 },
 "nbformat": 4,
 "nbformat_minor": 4
}
